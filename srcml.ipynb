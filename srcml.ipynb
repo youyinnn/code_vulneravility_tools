{
 "cells": [
  {
   "cell_type": "code",
   "execution_count": 2,
   "metadata": {},
   "outputs": [],
   "source": [
    "import pandas as pd\n",
    "import numpy as np\n",
    "import os\n",
    "from tqdm import tqdm"
   ]
  },
  {
   "cell_type": "code",
   "execution_count": 3,
   "metadata": {},
   "outputs": [
    {
     "name": "stderr",
     "output_type": "stream",
     "text": [
      "  0%|          | 0/115 [00:00<?, ?it/s]\n"
     ]
    }
   ],
   "source": [
    "juliet_dev_csv = pd.read_csv('data_without_removed_cwe/juliet_dev_mic.csv')\n",
    "\n",
    "for i in tqdm(range(juliet_dev_csv.shape[0])):\n",
    "    code = juliet_dev_csv['sentence'].iloc[i]\n",
    "    fp = os.path.join('srcxml', 'juliet', f'juliet.java.{i}')\n",
    "    with open(fp, 'w') as f:\n",
    "        f.write(code)\n",
    "    shell_code = os.system(f'srcml {str(fp)} -l Java -o srcxml/juliet/juliet.java.{i}.withc.xml')\n",
    "    os.remove(fp)\n",
    "    break"
   ]
  },
  {
   "cell_type": "code",
   "execution_count": 18,
   "metadata": {},
   "outputs": [
    {
     "name": "stderr",
     "output_type": "stream",
     "text": [
      "100%|██████████| 115/115 [00:02<00:00, 49.39it/s]\n"
     ]
    }
   ],
   "source": [
    "juliet_dev_csv = pd.read_csv('data_without_removed_cwe/juliet_dev_mi.csv')\n",
    "\n",
    "for i in tqdm(range(juliet_dev_csv.shape[0])):\n",
    "    code = juliet_dev_csv['sentence'].iloc[i]\n",
    "    fp = os.path.join('srcxml', 'juliet', f'juliet.java.{i}')\n",
    "    with open(fp, 'w') as f:\n",
    "        f.write(code)\n",
    "    shell_code = os.system(f'srcml {str(fp)} -l Java -o srcxml/juliet/juliet.java.{i}.xml')\n",
    "    os.remove(fp)"
   ]
  },
  {
   "cell_type": "code",
   "execution_count": 19,
   "metadata": {},
   "outputs": [
    {
     "name": "stderr",
     "output_type": "stream",
     "text": [
      "100%|██████████| 344/344 [00:08<00:00, 42.70it/s]\n"
     ]
    }
   ],
   "source": [
    "owasp_dev_csv = pd.read_csv('data_without_removed_cwe/owasp_dev_mi.csv')\n",
    "\n",
    "for i in tqdm(range(owasp_dev_csv.shape[0])):\n",
    "    code = owasp_dev_csv['sentence'].iloc[i]\n",
    "    fp = os.path.join('srcxml', 'owasp', f'owasp.java.{i}')\n",
    "    with open(fp, 'w') as f:\n",
    "        f.write(code)\n",
    "    shell_code = os.system(f'srcml {str(fp)} -l Java -o srcxml/owasp/owasp.java.{i}.xml')\n",
    "    os.remove(fp)"
   ]
  },
  {
   "cell_type": "code",
   "execution_count": 2,
   "metadata": {},
   "outputs": [],
   "source": [
    "hello_word = '''package demo.test;\n",
    "\n",
    "import test1.*;\n",
    "import test2.TestTool;\n",
    "\n",
    "public class TestClass {\n",
    "    \n",
    "    private String name;\n",
    "    public Integer age;\n",
    "    \n",
    "    public TestClass() {\n",
    "        // empty\n",
    "    }\n",
    "    \n",
    "    public TestClass(String name, Integer age) {\n",
    "        this.name = name;\n",
    "        this.age = age;\n",
    "    }\n",
    "    \n",
    "    public String getName() {\n",
    "        return this.name;\n",
    "    }\n",
    "    \n",
    "    public static void main(Stirng[] args) {\n",
    "        TestClass tc = new TestClass(\"Jack\", 26);\n",
    "        System.out.println(\"Hello\" + tc.getName() + \", age: \" + tc.age);\n",
    "    }\n",
    "}\n",
    "'''\n",
    "\n",
    "fp = os.path.join('srcxml', f'helloworld.java')\n",
    "with open(fp, 'w') as f:\n",
    "    f.write(hello_word)\n",
    "shell_code = os.system(f'srcml {str(fp)} -l Java -o srcxml/helloworld.java.xml')\n"
   ]
  }
 ],
 "metadata": {
  "interpreter": {
   "hash": "f1d94bd9d63b758d4d1a7745f354208240ecdb83ffa155a8e3719b77fc7247b4"
  },
  "kernelspec": {
   "display_name": "Python 3.9.7 ('code_vul')",
   "language": "python",
   "name": "python3"
  },
  "language_info": {
   "codemirror_mode": {
    "name": "ipython",
    "version": 3
   },
   "file_extension": ".py",
   "mimetype": "text/x-python",
   "name": "python",
   "nbconvert_exporter": "python",
   "pygments_lexer": "ipython3",
   "version": "3.9.7"
  },
  "orig_nbformat": 4
 },
 "nbformat": 4,
 "nbformat_minor": 2
}
