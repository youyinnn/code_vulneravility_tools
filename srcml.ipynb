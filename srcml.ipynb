{
 "cells": [
  {
   "cell_type": "code",
   "execution_count": 79,
   "metadata": {},
   "outputs": [],
   "source": [
    "import pandas as pd\n",
    "import numpy as np\n",
    "import os\n",
    "from tqdm import tqdm"
   ]
  },
  {
   "cell_type": "code",
   "execution_count": 80,
   "metadata": {},
   "outputs": [
    {
     "name": "stderr",
     "output_type": "stream",
     "text": [
      "100%|██████████| 115/115 [00:02<00:00, 40.44it/s]\n"
     ]
    }
   ],
   "source": [
    "juliet_dev_csv = pd.read_csv('data_without_removed_cwe/juliet_dev_mi.csv')\n",
    "\n",
    "for i in tqdm(range(juliet_dev_csv.shape[0])):\n",
    "    code = juliet_dev_csv['sentence'].iloc[i].replace('\"', '\\\\\"')\n",
    "    shell_code = os.system(f'echo \"{code}\" | srcml -l Java -o srcxml/juliet/juliet.java.{i}.xml')"
   ]
  },
  {
   "cell_type": "code",
   "execution_count": 81,
   "metadata": {},
   "outputs": [
    {
     "name": "stderr",
     "output_type": "stream",
     "text": [
      "100%|██████████| 344/344 [00:09<00:00, 35.57it/s]\n"
     ]
    }
   ],
   "source": [
    "owasp_dev_csv = pd.read_csv('data_without_removed_cwe/owasp_dev_mi.csv')\n",
    "\n",
    "for i in tqdm(range(owasp_dev_csv.shape[0])):\n",
    "    code = owasp_dev_csv['sentence'].iloc[i].replace('\"', '\\\\\"')\n",
    "    shell_code = os.system(f'echo \"{code}\" | srcml -l Java -o srcxml/owasp/owasp.java.{i}.xml')"
   ]
  }
 ],
 "metadata": {
  "interpreter": {
   "hash": "f1d94bd9d63b758d4d1a7745f354208240ecdb83ffa155a8e3719b77fc7247b4"
  },
  "kernelspec": {
   "display_name": "Python 3.9.7 ('code_vul')",
   "language": "python",
   "name": "python3"
  },
  "language_info": {
   "codemirror_mode": {
    "name": "ipython",
    "version": 3
   },
   "file_extension": ".py",
   "mimetype": "text/x-python",
   "name": "python",
   "nbconvert_exporter": "python",
   "pygments_lexer": "ipython3",
   "version": "3.9.7"
  },
  "orig_nbformat": 4
 },
 "nbformat": 4,
 "nbformat_minor": 2
}
