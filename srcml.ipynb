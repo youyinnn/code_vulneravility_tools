{
 "cells": [
  {
   "cell_type": "code",
   "execution_count": 2,
   "metadata": {},
   "outputs": [],
   "source": [
    "import pandas as pd\n",
    "import numpy as np\n",
    "import os\n",
    "from tqdm import tqdm"
   ]
  },
  {
   "cell_type": "code",
   "execution_count": 3,
   "metadata": {},
   "outputs": [
    {
     "name": "stderr",
     "output_type": "stream",
     "text": [
      "  0%|          | 0/115 [00:00<?, ?it/s]\n"
     ]
    }
   ],
   "source": [
    "juliet_dev_csv = pd.read_csv('data_without_removed_cwe/juliet_dev_mic.csv')\n",
    "\n",
    "for i in tqdm(range(juliet_dev_csv.shape[0])):\n",
    "    code = juliet_dev_csv['sentence'].iloc[i]\n",
    "    fp = os.path.join('srcxml', 'juliet', f'juliet.java.{i}')\n",
    "    with open(fp, 'w') as f:\n",
    "        f.write(code)\n",
    "    shell_code = os.system(f'srcml {str(fp)} -l Java -o srcxml/juliet/juliet.java.{i}.withc.xml')\n",
    "    os.remove(fp)\n",
    "    break"
   ]
  },
  {
   "cell_type": "code",
   "execution_count": 7,
   "metadata": {},
   "outputs": [
    {
     "name": "stderr",
     "output_type": "stream",
     "text": [
      "100%|██████████| 115/115 [00:03<00:00, 37.21it/s]\n"
     ]
    }
   ],
   "source": [
    "juliet_dev_csv = pd.read_csv('data_without_removed_cwe/juliet_dev_mi.csv')\n",
    "\n",
    "for i in tqdm(range(juliet_dev_csv.shape[0])):\n",
    "    code = juliet_dev_csv['sentence'].iloc[i]\n",
    "    fp = os.path.join('srcxml', 'juliet', f'juliet.java.{i}')\n",
    "    with open(fp, 'w') as f:\n",
    "        f.write(code)\n",
    "    shell_code = os.system(f'srcml {str(fp)} -l Java -o srcxml/juliet/juliet.java.{i}.xml')\n",
    "    os.remove(fp)"
   ]
  },
  {
   "cell_type": "code",
   "execution_count": 19,
   "metadata": {},
   "outputs": [
    {
     "name": "stderr",
     "output_type": "stream",
     "text": [
      "100%|██████████| 344/344 [00:08<00:00, 42.70it/s]\n"
     ]
    }
   ],
   "source": [
    "owasp_dev_csv = pd.read_csv('data_without_removed_cwe/owasp_dev_mi.csv')\n",
    "\n",
    "for i in tqdm(range(owasp_dev_csv.shape[0])):\n",
    "    code = owasp_dev_csv['sentence'].iloc[i]\n",
    "    fp = os.path.join('srcxml', 'owasp', f'owasp.java.{i}')\n",
    "    with open(fp, 'w') as f:\n",
    "        f.write(code)\n",
    "    shell_code = os.system(f'srcml {str(fp)} -l Java -o srcxml/owasp/owasp.java.{i}.xml')\n",
    "    os.remove(fp)"
   ]
  },
  {
   "cell_type": "code",
   "execution_count": 2,
   "metadata": {},
   "outputs": [],
   "source": [
    "hello_word = '''package demo.test;\n",
    "\n",
    "import test1.*;\n",
    "import test2.TestTool;\n",
    "\n",
    "public class TestClass {\n",
    "    \n",
    "    private String name;\n",
    "    public Integer age;\n",
    "    \n",
    "    public TestClass() {\n",
    "        // empty\n",
    "    }\n",
    "    \n",
    "    public TestClass(String name, Integer age) {\n",
    "        this.name = name;\n",
    "        this.age = age;\n",
    "    }\n",
    "    \n",
    "    public String getName() {\n",
    "        return this.name;\n",
    "    }\n",
    "    \n",
    "    public static void main(Stirng[] args) {\n",
    "        TestClass tc = new TestClass(\"Jack\", 26);\n",
    "        System.out.println(\"Hello\" + tc.getName() + \", age: \" + tc.age);\n",
    "    }\n",
    "}\n",
    "'''\n",
    "\n",
    "fp = os.path.join('srcxml', f'helloworld.java')\n",
    "with open(fp, 'w') as f:\n",
    "    f.write(hello_word)\n",
    "shell_code = os.system(f'srcml {str(fp)} -l Java -o srcxml/helloworld.java.xml')\n"
   ]
  },
  {
   "cell_type": "code",
   "execution_count": 23,
   "metadata": {},
   "outputs": [],
   "source": [
    "import subprocess\n",
    "\n",
    "def gen_xml_csv_for(part):\n",
    "    draper_test_csv = pd.read_csv(f'data_without_removed_cwe/draper_{part}_split_out.csv')\n",
    "    xmlcsv_path = os.path.join('srcxml', 'draper', f'draper_xml_{part}.csv')\n",
    "    out_data = []\n",
    "\n",
    "    for i in tqdm(range(draper_test_csv.shape[0])):\n",
    "        code = draper_test_csv['code_only'].iloc[i]\n",
    "        fp = os.path.join('srcxml', 'draper', f'draper.cpp.{i}')\n",
    "        with open(fp, 'w') as f:\n",
    "            f.write(code)\n",
    "            \n",
    "        process = subprocess.run(\n",
    "            ['srcml', fp, '-l', 'C++'], stdout=subprocess.PIPE)\n",
    "        \n",
    "        out_data.append([part, i, process.stdout])\n",
    "        os.remove(fp)\n",
    "        \n",
    "    pd.DataFrame(np.array(out_data),\n",
    "                    columns=['part', 'id', 'xml',]).to_csv(xmlcsv_path, index=False)"
   ]
  },
  {
   "cell_type": "code",
   "execution_count": 21,
   "metadata": {},
   "outputs": [
    {
     "name": "stderr",
     "output_type": "stream",
     "text": [
      "100%|██████████| 8880/8880 [03:29<00:00, 42.45it/s]\n"
     ]
    }
   ],
   "source": [
    "# gen_xml_csv_for('test')\n",
    "gen_xml_csv_for('validate')\n",
    "# gen_xml_csv_for('test')"
   ]
  },
  {
   "cell_type": "code",
   "execution_count": 24,
   "metadata": {},
   "outputs": [
    {
     "name": "stderr",
     "output_type": "stream",
     "text": [
      "100%|██████████| 39996/39996 [15:53<00:00, 41.94it/s]\n"
     ]
    }
   ],
   "source": [
    "gen_xml_csv_for('train_1')"
   ]
  },
  {
   "cell_type": "code",
   "execution_count": 25,
   "metadata": {},
   "outputs": [
    {
     "name": "stderr",
     "output_type": "stream",
     "text": [
      "100%|██████████| 29466/29466 [11:58<00:00, 40.99it/s]\n"
     ]
    }
   ],
   "source": [
    "gen_xml_csv_for('train_2')"
   ]
  },
  {
   "cell_type": "code",
   "execution_count": 6,
   "metadata": {},
   "outputs": [
    {
     "name": "stdout",
     "output_type": "stream",
     "text": [
      "69462\n"
     ]
    }
   ],
   "source": [
    "s = pd.read_csv(os.path.join('data_without_removed_cwe/draper_train_1_split_out.csv'))\n",
    "s2 = pd.read_csv(os.path.join('data_without_removed_cwe/draper_train_2_split_out.csv'))\n",
    "s3 = pd.read_csv(os.path.join('data_without_removed_cwe/draper_train_3_split_out.csv'))\n",
    "\n",
    "print(s.shape[0] + s2.shape[0] + s3.shape[0])"
   ]
  }
 ],
 "metadata": {
  "interpreter": {
   "hash": "f1d94bd9d63b758d4d1a7745f354208240ecdb83ffa155a8e3719b77fc7247b4"
  },
  "kernelspec": {
   "display_name": "Python 3.9.7 ('code_vul')",
   "language": "python",
   "name": "python3"
  },
  "language_info": {
   "codemirror_mode": {
    "name": "ipython",
    "version": 3
   },
   "file_extension": ".py",
   "mimetype": "text/x-python",
   "name": "python",
   "nbconvert_exporter": "python",
   "pygments_lexer": "ipython3",
   "version": "3.9.7"
  },
  "orig_nbformat": 4
 },
 "nbformat": 4,
 "nbformat_minor": 2
}
