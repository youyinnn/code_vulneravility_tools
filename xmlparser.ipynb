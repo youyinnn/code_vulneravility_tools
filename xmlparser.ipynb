{
 "cells": [
  {
   "cell_type": "code",
   "execution_count": 12,
   "metadata": {},
   "outputs": [],
   "source": [
    "import xml.etree.ElementTree as ET\n",
    "\n",
    "def parseXML(xml_path):\n",
    "    tree = ET.parse(xml_path)\n",
    "    \n",
    "    root = tree.getroot()\n",
    "    for child in root:\n",
    "        print(child.tag)\n",
    "        print('=======')\n",
    "        print(child.attrib)\n",
    "        print('=======')\n",
    "        print(child.text)"
   ]
  },
  {
   "cell_type": "code",
   "execution_count": 13,
   "metadata": {},
   "outputs": [
    {
     "name": "stdout",
     "output_type": "stream",
     "text": [
      "{http://www.srcML.org/srcML/src}package\n",
      "=======\n",
      "{}\n",
      "=======\n",
      "\n",
      "        package\n",
      "        \n",
      "{http://www.srcML.org/srcML/src}import\n",
      "=======\n",
      "{}\n",
      "=======\n",
      "\n",
      "        import\n",
      "        \n",
      "{http://www.srcML.org/srcML/src}import\n",
      "=======\n",
      "{}\n",
      "=======\n",
      "\n",
      "        import\n",
      "        \n",
      "{http://www.srcML.org/srcML/src}import\n",
      "=======\n",
      "{}\n",
      "=======\n",
      "\n",
      "        import\n",
      "        \n",
      "{http://www.srcML.org/srcML/src}import\n",
      "=======\n",
      "{}\n",
      "=======\n",
      "\n",
      "        import\n",
      "        \n",
      "{http://www.srcML.org/srcML/src}class\n",
      "=======\n",
      "{}\n",
      "=======\n",
      "\n",
      "        \n"
     ]
    }
   ],
   "source": [
    "parseXML('/Users/yinnnyou/workspace/code_vulnerability_tools/srcxml/juliet.java.0.example.xml')"
   ]
  }
 ],
 "metadata": {
  "interpreter": {
   "hash": "f1d94bd9d63b758d4d1a7745f354208240ecdb83ffa155a8e3719b77fc7247b4"
  },
  "kernelspec": {
   "display_name": "Python 3.9.7 ('code_vul')",
   "language": "python",
   "name": "python3"
  },
  "language_info": {
   "codemirror_mode": {
    "name": "ipython",
    "version": 3
   },
   "file_extension": ".py",
   "mimetype": "text/x-python",
   "name": "python",
   "nbconvert_exporter": "python",
   "pygments_lexer": "ipython3",
   "version": "3.9.7"
  },
  "orig_nbformat": 4
 },
 "nbformat": 4,
 "nbformat_minor": 2
}
